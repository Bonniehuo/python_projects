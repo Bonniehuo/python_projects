{
 "cells": [
  {
   "cell_type": "code",
   "execution_count": null,
   "metadata": {},
   "outputs": [],
   "source": [
    "#coding: utf-8\n",
    "\n",
    "# 1st step: create socketobject, using socket Constructor function\n",
    "# socket = socket.socket( family, type )\n",
    "# address family: AF_INET or AF_UNIX, AF_INET家族包括Internet地址，AF_UNIX家族用于同一台机器上的进程间通信。\n",
    "# socket type: SOCK_STREAM(流套接字) or SOCK_DGRAM(数据报套接字)。\n",
    "\n",
    "# 2nd step: bind socket address:\n",
    "# socket.bind( address('host','port') )\n",
    "\n",
    "# 3rd step: socket.listen()\n",
    "# socket.listen( backlog )\n",
    "# backlog: means how many clients can accept server, at least 1.\n",
    "\n",
    "#4th step: connection, address = socket.accept()\n",
    "\n",
    "# 5th step: send() & recv()\n",
    "\n",
    "# 6th,socket.close()\n",
    "\n",
    "import socket\n",
    "if __name__ == '__main__':\n",
    "    sock = socket.socket(socket.AF_INET, socket.SOCK_STREAM)\n",
    "    sock.bind(('localhost',8001))\n",
    "    sock.listen(5)\n",
    "    while True:\n",
    "        connection,address = sock.accept()\n",
    "        try: \n",
    "            connection.settimeout(5)\n",
    "            buf = connection.recv(1024)\n",
    "        if buf == '1':\n",
    "            connection.send('welcome to server!')\n",
    "        else:\n",
    "            connection.send('Please go out!')\n",
    "        except socket.timeout: \n",
    "            print ('time out')\n",
    "    connection.close()"
   ]
  }
 ],
 "metadata": {
  "kernelspec": {
   "display_name": "Python 3",
   "language": "python",
   "name": "python3"
  },
  "language_info": {
   "codemirror_mode": {
    "name": "ipython",
    "version": 3
   },
   "file_extension": ".py",
   "mimetype": "text/x-python",
   "name": "python",
   "nbconvert_exporter": "python",
   "pygments_lexer": "ipython3",
   "version": "3.7.3"
  }
 },
 "nbformat": 4,
 "nbformat_minor": 2
}
