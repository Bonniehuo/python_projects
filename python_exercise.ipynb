{
 "cells": [
  {
   "cell_type": "code",
   "execution_count": 3,
   "metadata": {},
   "outputs": [
    {
     "name": "stdout",
     "output_type": "stream",
     "text": [
      "[2, 3]\n",
      "[1, 4, 5, 7]\n"
     ]
    }
   ],
   "source": [
    "b1 = [1,2,3,4]\n",
    "b2 = [3,5,7,2]\n",
    "b3 = [val for val in b1 if val in b2]\n",
    "b4 = [val for val in b1 if val not in b2] + [val for val in b2 if val not in b1]\n",
    "print(b3)\n",
    "print(b4)\n"
   ]
  },
  {
   "cell_type": "markdown",
   "metadata": {},
   "source": [
    "# Json \n",
    "\n",
    "JSON is a syntax for storing and exchanging data.\n",
    "JSON is text, written with JavaScript object notation."
   ]
  },
  {
   "cell_type": "code",
   "execution_count": 8,
   "metadata": {},
   "outputs": [
    {
     "name": "stdout",
     "output_type": "stream",
     "text": [
      "{'persons': [{'name': 'yu', 'age': '23'}, {'name': 'zhang', 'age': '34'}]}\n",
      "dict_keys(['persons'])\n"
     ]
    }
   ],
   "source": [
    "import json\n",
    "\n",
    "j = json.loads('{\"persons\":[{\"name\":\"yu\",\"age\":\"23\"},{\"name\":\"zhang\",\"age\":\"34\"}]}')\n",
    "print(j)\n",
    "print (j.keys())"
   ]
  },
  {
   "cell_type": "code",
   "execution_count": 16,
   "metadata": {},
   "outputs": [
    {
     "name": "stdout",
     "output_type": "stream",
     "text": [
      "dict_values([[{'name': 'yu', 'age': '23'}, {'name': 'zhang', 'age': '34'}]])\n"
     ]
    }
   ],
   "source": [
    "print(j.values())"
   ]
  },
  {
   "cell_type": "code",
   "execution_count": 18,
   "metadata": {},
   "outputs": [
    {
     "name": "stdout",
     "output_type": "stream",
     "text": [
      "{'name': 'yu', 'age': '23'}\n"
     ]
    }
   ],
   "source": [
    "print(list(j.values())[0][0])"
   ]
  },
  {
   "cell_type": "code",
   "execution_count": 19,
   "metadata": {},
   "outputs": [
    {
     "name": "stdout",
     "output_type": "stream",
     "text": [
      "yu\n"
     ]
    }
   ],
   "source": [
    "print(list(j.values())[0][0]['name'])"
   ]
  },
  {
   "cell_type": "code",
   "execution_count": null,
   "metadata": {},
   "outputs": [],
   "source": []
  }
 ],
 "metadata": {
  "kernelspec": {
   "display_name": "Python 3",
   "language": "python",
   "name": "python3"
  },
  "language_info": {
   "codemirror_mode": {
    "name": "ipython",
    "version": 3
   },
   "file_extension": ".py",
   "mimetype": "text/x-python",
   "name": "python",
   "nbconvert_exporter": "python",
   "pygments_lexer": "ipython3",
   "version": "3.7.3"
  }
 },
 "nbformat": 4,
 "nbformat_minor": 2
}
